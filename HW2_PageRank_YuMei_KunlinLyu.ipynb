{
 "cells": [
  {
   "cell_type": "markdown",
   "metadata": {},
   "source": [
    "# Question a."
   ]
  },
  {
   "cell_type": "code",
   "execution_count": 3,
   "metadata": {
    "scrolled": false
   },
   "outputs": [
    {
     "data": {
      "text/html": [
       "<table>\n",
       "<caption>A matrix: 4 × 4 of type dbl</caption>\n",
       "<tbody>\n",
       "\t<tr><td>0.0000000</td><td>0.0</td><td>1</td><td>0.5</td></tr>\n",
       "\t<tr><td>0.3333333</td><td>0.0</td><td>0</td><td>0.0</td></tr>\n",
       "\t<tr><td>0.3333333</td><td>0.5</td><td>0</td><td>0.5</td></tr>\n",
       "\t<tr><td>0.3333333</td><td>0.5</td><td>0</td><td>0.0</td></tr>\n",
       "</tbody>\n",
       "</table>\n"
      ],
      "text/latex": [
       "A matrix: 4 × 4 of type dbl\n",
       "\\begin{tabular}{llll}\n",
       "\t 0.0000000 & 0.0 & 1 & 0.5\\\\\n",
       "\t 0.3333333 & 0.0 & 0 & 0.0\\\\\n",
       "\t 0.3333333 & 0.5 & 0 & 0.5\\\\\n",
       "\t 0.3333333 & 0.5 & 0 & 0.0\\\\\n",
       "\\end{tabular}\n"
      ],
      "text/markdown": [
       "\n",
       "A matrix: 4 × 4 of type dbl\n",
       "\n",
       "| 0.0000000 | 0.0 | 1 | 0.5 |\n",
       "| 0.3333333 | 0.0 | 0 | 0.0 |\n",
       "| 0.3333333 | 0.5 | 0 | 0.5 |\n",
       "| 0.3333333 | 0.5 | 0 | 0.0 |\n",
       "\n"
      ],
      "text/plain": [
       "     [,1]      [,2] [,3] [,4]\n",
       "[1,] 0.0000000 0.0  1    0.5 \n",
       "[2,] 0.3333333 0.0  0    0.0 \n",
       "[3,] 0.3333333 0.5  0    0.5 \n",
       "[4,] 0.3333333 0.5  0    0.0 "
      ]
     },
     "metadata": {},
     "output_type": "display_data"
    }
   ],
   "source": [
    "# Questrion a.\n",
    "# for diagram (a), the Transition Matrix A is:\n",
    "a <- matrix(\n",
    "  c(0, rep(1/3,3),0,0, rep(1/2,2),1,rep(0,3),1/2,0,1/2,0),\n",
    "  nrow = 4\n",
    ");a"
   ]
  },
  {
   "cell_type": "code",
   "execution_count": 4,
   "metadata": {},
   "outputs": [
    {
     "data": {
      "text/html": [
       "<table>\n",
       "<caption>A matrix: 5 × 5 of type dbl</caption>\n",
       "<tbody>\n",
       "\t<tr><td>0.0000000</td><td>0.0</td><td>1</td><td>0.0</td><td>0</td></tr>\n",
       "\t<tr><td>0.3333333</td><td>0.0</td><td>0</td><td>0.5</td><td>0</td></tr>\n",
       "\t<tr><td>0.3333333</td><td>0.0</td><td>0</td><td>0.5</td><td>0</td></tr>\n",
       "\t<tr><td>0.3333333</td><td>0.5</td><td>0</td><td>0.0</td><td>0</td></tr>\n",
       "\t<tr><td>0.0000000</td><td>0.5</td><td>0</td><td>0.0</td><td>1</td></tr>\n",
       "</tbody>\n",
       "</table>\n"
      ],
      "text/latex": [
       "A matrix: 5 × 5 of type dbl\n",
       "\\begin{tabular}{lllll}\n",
       "\t 0.0000000 & 0.0 & 1 & 0.0 & 0\\\\\n",
       "\t 0.3333333 & 0.0 & 0 & 0.5 & 0\\\\\n",
       "\t 0.3333333 & 0.0 & 0 & 0.5 & 0\\\\\n",
       "\t 0.3333333 & 0.5 & 0 & 0.0 & 0\\\\\n",
       "\t 0.0000000 & 0.5 & 0 & 0.0 & 1\\\\\n",
       "\\end{tabular}\n"
      ],
      "text/markdown": [
       "\n",
       "A matrix: 5 × 5 of type dbl\n",
       "\n",
       "| 0.0000000 | 0.0 | 1 | 0.0 | 0 |\n",
       "| 0.3333333 | 0.0 | 0 | 0.5 | 0 |\n",
       "| 0.3333333 | 0.0 | 0 | 0.5 | 0 |\n",
       "| 0.3333333 | 0.5 | 0 | 0.0 | 0 |\n",
       "| 0.0000000 | 0.5 | 0 | 0.0 | 1 |\n",
       "\n"
      ],
      "text/plain": [
       "     [,1]      [,2] [,3] [,4] [,5]\n",
       "[1,] 0.0000000 0.0  1    0.0  0   \n",
       "[2,] 0.3333333 0.0  0    0.5  0   \n",
       "[3,] 0.3333333 0.0  0    0.5  0   \n",
       "[4,] 0.3333333 0.5  0    0.0  0   \n",
       "[5,] 0.0000000 0.5  0    0.0  1   "
      ]
     },
     "metadata": {},
     "output_type": "display_data"
    }
   ],
   "source": [
    "# for diagram (b), the Transition Matrix A is:\n",
    "b <- matrix(\n",
    "  c(0,rep(1/3,3),rep(0,4),1/2,1/2,1,rep(0,5),1/2,1/2,rep(0,6),1),\n",
    "  nrow = 5\n",
    ");b"
   ]
  },
  {
   "cell_type": "markdown",
   "metadata": {},
   "source": [
    "# Question b"
   ]
  },
  {
   "cell_type": "code",
   "execution_count": 5,
   "metadata": {},
   "outputs": [
    {
     "data": {
      "text/html": [
       "<table>\n",
       "<caption>A matrix: 4 × 4 of type dbl</caption>\n",
       "<tbody>\n",
       "\t<tr><td>1</td><td>1</td><td>1</td><td>1</td></tr>\n",
       "\t<tr><td>1</td><td>1</td><td>1</td><td>1</td></tr>\n",
       "\t<tr><td>1</td><td>1</td><td>1</td><td>1</td></tr>\n",
       "\t<tr><td>1</td><td>1</td><td>1</td><td>1</td></tr>\n",
       "</tbody>\n",
       "</table>\n"
      ],
      "text/latex": [
       "A matrix: 4 × 4 of type dbl\n",
       "\\begin{tabular}{llll}\n",
       "\t 1 & 1 & 1 & 1\\\\\n",
       "\t 1 & 1 & 1 & 1\\\\\n",
       "\t 1 & 1 & 1 & 1\\\\\n",
       "\t 1 & 1 & 1 & 1\\\\\n",
       "\\end{tabular}\n"
      ],
      "text/markdown": [
       "\n",
       "A matrix: 4 × 4 of type dbl\n",
       "\n",
       "| 1 | 1 | 1 | 1 |\n",
       "| 1 | 1 | 1 | 1 |\n",
       "| 1 | 1 | 1 | 1 |\n",
       "| 1 | 1 | 1 | 1 |\n",
       "\n"
      ],
      "text/plain": [
       "     [,1] [,2] [,3] [,4]\n",
       "[1,] 1    1    1    1   \n",
       "[2,] 1    1    1    1   \n",
       "[3,] 1    1    1    1   \n",
       "[4,] 1    1    1    1   "
      ]
     },
     "metadata": {},
     "output_type": "display_data"
    }
   ],
   "source": [
    "# Question b.\n",
    "# for diagram (a): Google matrix G is: (q=.15)\n",
    "q <- .15\n",
    "K <- matrix(c(rep(1,4*4)), nrow = 4);K"
   ]
  },
  {
   "cell_type": "code",
   "execution_count": 6,
   "metadata": {},
   "outputs": [
    {
     "data": {
      "text/html": [
       "<table>\n",
       "<caption>A matrix: 4 × 4 of type dbl</caption>\n",
       "<tbody>\n",
       "\t<tr><td>0.0375000</td><td>0.0375</td><td>0.8875</td><td>0.4625</td></tr>\n",
       "\t<tr><td>0.3208333</td><td>0.0375</td><td>0.0375</td><td>0.0375</td></tr>\n",
       "\t<tr><td>0.3208333</td><td>0.4625</td><td>0.0375</td><td>0.4625</td></tr>\n",
       "\t<tr><td>0.3208333</td><td>0.4625</td><td>0.0375</td><td>0.0375</td></tr>\n",
       "</tbody>\n",
       "</table>\n"
      ],
      "text/latex": [
       "A matrix: 4 × 4 of type dbl\n",
       "\\begin{tabular}{llll}\n",
       "\t 0.0375000 & 0.0375 & 0.8875 & 0.4625\\\\\n",
       "\t 0.3208333 & 0.0375 & 0.0375 & 0.0375\\\\\n",
       "\t 0.3208333 & 0.4625 & 0.0375 & 0.4625\\\\\n",
       "\t 0.3208333 & 0.4625 & 0.0375 & 0.0375\\\\\n",
       "\\end{tabular}\n"
      ],
      "text/markdown": [
       "\n",
       "A matrix: 4 × 4 of type dbl\n",
       "\n",
       "| 0.0375000 | 0.0375 | 0.8875 | 0.4625 |\n",
       "| 0.3208333 | 0.0375 | 0.0375 | 0.0375 |\n",
       "| 0.3208333 | 0.4625 | 0.0375 | 0.4625 |\n",
       "| 0.3208333 | 0.4625 | 0.0375 | 0.0375 |\n",
       "\n"
      ],
      "text/plain": [
       "     [,1]      [,2]   [,3]   [,4]  \n",
       "[1,] 0.0375000 0.0375 0.8875 0.4625\n",
       "[2,] 0.3208333 0.0375 0.0375 0.0375\n",
       "[3,] 0.3208333 0.4625 0.0375 0.4625\n",
       "[4,] 0.3208333 0.4625 0.0375 0.0375"
      ]
     },
     "metadata": {},
     "output_type": "display_data"
    }
   ],
   "source": [
    "Ga <- (1-q) * a + q * (1/4 * K);Ga"
   ]
  },
  {
   "cell_type": "code",
   "execution_count": 7,
   "metadata": {},
   "outputs": [
    {
     "data": {
      "text/html": [
       "<table>\n",
       "<caption>A matrix: 5 × 5 of type dbl</caption>\n",
       "<tbody>\n",
       "\t<tr><td>1</td><td>1</td><td>1</td><td>1</td><td>1</td></tr>\n",
       "\t<tr><td>1</td><td>1</td><td>1</td><td>1</td><td>1</td></tr>\n",
       "\t<tr><td>1</td><td>1</td><td>1</td><td>1</td><td>1</td></tr>\n",
       "\t<tr><td>1</td><td>1</td><td>1</td><td>1</td><td>1</td></tr>\n",
       "\t<tr><td>1</td><td>1</td><td>1</td><td>1</td><td>1</td></tr>\n",
       "</tbody>\n",
       "</table>\n"
      ],
      "text/latex": [
       "A matrix: 5 × 5 of type dbl\n",
       "\\begin{tabular}{lllll}\n",
       "\t 1 & 1 & 1 & 1 & 1\\\\\n",
       "\t 1 & 1 & 1 & 1 & 1\\\\\n",
       "\t 1 & 1 & 1 & 1 & 1\\\\\n",
       "\t 1 & 1 & 1 & 1 & 1\\\\\n",
       "\t 1 & 1 & 1 & 1 & 1\\\\\n",
       "\\end{tabular}\n"
      ],
      "text/markdown": [
       "\n",
       "A matrix: 5 × 5 of type dbl\n",
       "\n",
       "| 1 | 1 | 1 | 1 | 1 |\n",
       "| 1 | 1 | 1 | 1 | 1 |\n",
       "| 1 | 1 | 1 | 1 | 1 |\n",
       "| 1 | 1 | 1 | 1 | 1 |\n",
       "| 1 | 1 | 1 | 1 | 1 |\n",
       "\n"
      ],
      "text/plain": [
       "     [,1] [,2] [,3] [,4] [,5]\n",
       "[1,] 1    1    1    1    1   \n",
       "[2,] 1    1    1    1    1   \n",
       "[3,] 1    1    1    1    1   \n",
       "[4,] 1    1    1    1    1   \n",
       "[5,] 1    1    1    1    1   "
      ]
     },
     "metadata": {},
     "output_type": "display_data"
    }
   ],
   "source": [
    "# for diagram (b): Google matrix G is: (q=.15)\n",
    "K <- matrix(c(rep(1, 5*5)),nrow = 5);K"
   ]
  },
  {
   "cell_type": "code",
   "execution_count": 8,
   "metadata": {},
   "outputs": [
    {
     "data": {
      "text/html": [
       "<table>\n",
       "<caption>A matrix: 5 × 5 of type dbl</caption>\n",
       "<tbody>\n",
       "\t<tr><td>0.0000000</td><td>0.0</td><td>1</td><td>0.0</td><td>0.2</td></tr>\n",
       "\t<tr><td>0.3333333</td><td>0.0</td><td>0</td><td>0.5</td><td>0.2</td></tr>\n",
       "\t<tr><td>0.3333333</td><td>0.0</td><td>0</td><td>0.5</td><td>0.2</td></tr>\n",
       "\t<tr><td>0.3333333</td><td>0.5</td><td>0</td><td>0.0</td><td>0.2</td></tr>\n",
       "\t<tr><td>0.0000000</td><td>0.5</td><td>0</td><td>0.0</td><td>0.2</td></tr>\n",
       "</tbody>\n",
       "</table>\n"
      ],
      "text/latex": [
       "A matrix: 5 × 5 of type dbl\n",
       "\\begin{tabular}{lllll}\n",
       "\t 0.0000000 & 0.0 & 1 & 0.0 & 0.2\\\\\n",
       "\t 0.3333333 & 0.0 & 0 & 0.5 & 0.2\\\\\n",
       "\t 0.3333333 & 0.0 & 0 & 0.5 & 0.2\\\\\n",
       "\t 0.3333333 & 0.5 & 0 & 0.0 & 0.2\\\\\n",
       "\t 0.0000000 & 0.5 & 0 & 0.0 & 0.2\\\\\n",
       "\\end{tabular}\n"
      ],
      "text/markdown": [
       "\n",
       "A matrix: 5 × 5 of type dbl\n",
       "\n",
       "| 0.0000000 | 0.0 | 1 | 0.0 | 0.2 |\n",
       "| 0.3333333 | 0.0 | 0 | 0.5 | 0.2 |\n",
       "| 0.3333333 | 0.0 | 0 | 0.5 | 0.2 |\n",
       "| 0.3333333 | 0.5 | 0 | 0.0 | 0.2 |\n",
       "| 0.0000000 | 0.5 | 0 | 0.0 | 0.2 |\n",
       "\n"
      ],
      "text/plain": [
       "     [,1]      [,2] [,3] [,4] [,5]\n",
       "[1,] 0.0000000 0.0  1    0.0  0.2 \n",
       "[2,] 0.3333333 0.0  0    0.5  0.2 \n",
       "[3,] 0.3333333 0.0  0    0.5  0.2 \n",
       "[4,] 0.3333333 0.5  0    0.0  0.2 \n",
       "[5,] 0.0000000 0.5  0    0.0  0.2 "
      ]
     },
     "metadata": {},
     "output_type": "display_data"
    }
   ],
   "source": [
    "# Adjustment: replace the column 5 because it's a dangling node\n",
    "b[,5] <- rep(1/5, 5);b"
   ]
  },
  {
   "cell_type": "code",
   "execution_count": 9,
   "metadata": {},
   "outputs": [
    {
     "data": {
      "text/html": [
       "<table>\n",
       "<caption>A matrix: 5 × 5 of type dbl</caption>\n",
       "<tbody>\n",
       "\t<tr><td>0.0300000</td><td>0.030</td><td>0.88</td><td>0.030</td><td>0.2</td></tr>\n",
       "\t<tr><td>0.3133333</td><td>0.030</td><td>0.03</td><td>0.455</td><td>0.2</td></tr>\n",
       "\t<tr><td>0.3133333</td><td>0.030</td><td>0.03</td><td>0.455</td><td>0.2</td></tr>\n",
       "\t<tr><td>0.3133333</td><td>0.455</td><td>0.03</td><td>0.030</td><td>0.2</td></tr>\n",
       "\t<tr><td>0.0300000</td><td>0.455</td><td>0.03</td><td>0.030</td><td>0.2</td></tr>\n",
       "</tbody>\n",
       "</table>\n"
      ],
      "text/latex": [
       "A matrix: 5 × 5 of type dbl\n",
       "\\begin{tabular}{lllll}\n",
       "\t 0.0300000 & 0.030 & 0.88 & 0.030 & 0.2\\\\\n",
       "\t 0.3133333 & 0.030 & 0.03 & 0.455 & 0.2\\\\\n",
       "\t 0.3133333 & 0.030 & 0.03 & 0.455 & 0.2\\\\\n",
       "\t 0.3133333 & 0.455 & 0.03 & 0.030 & 0.2\\\\\n",
       "\t 0.0300000 & 0.455 & 0.03 & 0.030 & 0.2\\\\\n",
       "\\end{tabular}\n"
      ],
      "text/markdown": [
       "\n",
       "A matrix: 5 × 5 of type dbl\n",
       "\n",
       "| 0.0300000 | 0.030 | 0.88 | 0.030 | 0.2 |\n",
       "| 0.3133333 | 0.030 | 0.03 | 0.455 | 0.2 |\n",
       "| 0.3133333 | 0.030 | 0.03 | 0.455 | 0.2 |\n",
       "| 0.3133333 | 0.455 | 0.03 | 0.030 | 0.2 |\n",
       "| 0.0300000 | 0.455 | 0.03 | 0.030 | 0.2 |\n",
       "\n"
      ],
      "text/plain": [
       "     [,1]      [,2]  [,3] [,4]  [,5]\n",
       "[1,] 0.0300000 0.030 0.88 0.030 0.2 \n",
       "[2,] 0.3133333 0.030 0.03 0.455 0.2 \n",
       "[3,] 0.3133333 0.030 0.03 0.455 0.2 \n",
       "[4,] 0.3133333 0.455 0.03 0.030 0.2 \n",
       "[5,] 0.0300000 0.455 0.03 0.030 0.2 "
      ]
     },
     "metadata": {},
     "output_type": "display_data"
    }
   ],
   "source": [
    "Gb <- (1-q) * b + q * (1/5 *K);Gb"
   ]
  },
  {
   "cell_type": "markdown",
   "metadata": {},
   "source": [
    "# Question c:\n",
    "- Diagram (a) doesn't have dangling node.\n",
    "- Diagram (b) has one dangling node, it's state 5."
   ]
  },
  {
   "cell_type": "code",
   "execution_count": 10,
   "metadata": {},
   "outputs": [],
   "source": [
    "# Question c:\n",
    "# Does either graph have a dangling node? If so which one(s)?\n",
    "Answer_a <- \"Diagram (a) doesn't have dangling node node, while Diagram (b) has one \n",
    "dangling node, it's state 5.\"\n"
   ]
  },
  {
   "cell_type": "markdown",
   "metadata": {},
   "source": [
    "# Question d:\n",
    "- \"As far as I can see, neither graph has a disconnected node\""
   ]
  },
  {
   "cell_type": "code",
   "execution_count": 11,
   "metadata": {},
   "outputs": [],
   "source": [
    "# Question d:\n",
    "# Does either graph have a disconnected node? \n",
    "Answer_b <- \"As far as I can see, neither graph has a disconnected node\""
   ]
  },
  {
   "cell_type": "markdown",
   "metadata": {},
   "source": [
    "# Question e:"
   ]
  },
  {
   "cell_type": "code",
   "execution_count": 12,
   "metadata": {},
   "outputs": [
    {
     "data": {
      "text/html": [
       "<table>\n",
       "<caption>A matrix: 4 × 4 of type dbl</caption>\n",
       "<tbody>\n",
       "\t<tr><td>0.0375000</td><td>0.0375</td><td>0.8875</td><td>0.4625</td></tr>\n",
       "\t<tr><td>0.3208333</td><td>0.0375</td><td>0.0375</td><td>0.0375</td></tr>\n",
       "\t<tr><td>0.3208333</td><td>0.4625</td><td>0.0375</td><td>0.4625</td></tr>\n",
       "\t<tr><td>0.3208333</td><td>0.4625</td><td>0.0375</td><td>0.0375</td></tr>\n",
       "</tbody>\n",
       "</table>\n"
      ],
      "text/latex": [
       "A matrix: 4 × 4 of type dbl\n",
       "\\begin{tabular}{llll}\n",
       "\t 0.0375000 & 0.0375 & 0.8875 & 0.4625\\\\\n",
       "\t 0.3208333 & 0.0375 & 0.0375 & 0.0375\\\\\n",
       "\t 0.3208333 & 0.4625 & 0.0375 & 0.4625\\\\\n",
       "\t 0.3208333 & 0.4625 & 0.0375 & 0.0375\\\\\n",
       "\\end{tabular}\n"
      ],
      "text/markdown": [
       "\n",
       "A matrix: 4 × 4 of type dbl\n",
       "\n",
       "| 0.0375000 | 0.0375 | 0.8875 | 0.4625 |\n",
       "| 0.3208333 | 0.0375 | 0.0375 | 0.0375 |\n",
       "| 0.3208333 | 0.4625 | 0.0375 | 0.4625 |\n",
       "| 0.3208333 | 0.4625 | 0.0375 | 0.0375 |\n",
       "\n"
      ],
      "text/plain": [
       "     [,1]      [,2]   [,3]   [,4]  \n",
       "[1,] 0.0375000 0.0375 0.8875 0.4625\n",
       "[2,] 0.3208333 0.0375 0.0375 0.0375\n",
       "[3,] 0.3208333 0.4625 0.0375 0.4625\n",
       "[4,] 0.3208333 0.4625 0.0375 0.0375"
      ]
     },
     "metadata": {},
     "output_type": "display_data"
    }
   ],
   "source": [
    "# Question e: \n",
    "# Compute the PageRank of each page in the set.\n",
    "# For Diagram (a):\n",
    "Ga"
   ]
  },
  {
   "cell_type": "code",
   "execution_count": 13,
   "metadata": {},
   "outputs": [
    {
     "data": {
      "text/plain": [
       "eigen() decomposition\n",
       "$values\n",
       "[1]  1.0000000+0.0000000i -0.3065298+0.3493292i -0.3065298-0.3493292i\n",
       "[4] -0.2369403+0.0000000i\n",
       "\n",
       "$vectors\n",
       "             [,1]                  [,2]                  [,3]          [,4]\n",
       "[1,] 0.6964831+0i -0.7552157+0.0000000i -0.7552157+0.0000000i  0.5064856+0i\n",
       "[2,] 0.2682810+0i  0.3036721+0.3460725i  0.3036721-0.3460725i -0.6056557+0i\n",
       "[3,] 0.5447780+0i  0.0931532-0.2746779i  0.0931532+0.2746779i -0.3815392+0i\n",
       "[4,] 0.3823004+0i  0.3583904-0.0713946i  0.3583904+0.0713946i  0.4807092+0i\n"
      ]
     },
     "metadata": {},
     "output_type": "display_data"
    }
   ],
   "source": [
    "va <- eigen(Ga);va"
   ]
  },
  {
   "cell_type": "code",
   "execution_count": 14,
   "metadata": {},
   "outputs": [
    {
     "data": {
      "text/html": [
       "<style>\n",
       ".list-inline {list-style: none; margin:0; padding: 0}\n",
       ".list-inline>li {display: inline-block}\n",
       ".list-inline>li:not(:last-child)::after {content: \"\\00b7\"; padding: 0 .5ex}\n",
       "</style>\n",
       "<ol class=list-inline><li>0.3682+0i</li><li>0.1418+0i</li><li>0.288+0i</li><li>0.2021+0i</li></ol>\n"
      ],
      "text/latex": [
       "\\begin{enumerate*}\n",
       "\\item 0.3682+0i\n",
       "\\item 0.1418+0i\n",
       "\\item 0.288+0i\n",
       "\\item 0.2021+0i\n",
       "\\end{enumerate*}\n"
      ],
      "text/markdown": [
       "1. 0.3682+0i\n",
       "2. 0.1418+0i\n",
       "3. 0.288+0i\n",
       "4. 0.2021+0i\n",
       "\n",
       "\n"
      ],
      "text/plain": [
       "[1] 0.3682+0i 0.1418+0i 0.2880+0i 0.2021+0i"
      ]
     },
     "metadata": {},
     "output_type": "display_data"
    }
   ],
   "source": [
    "PageRankA <- va$vectors[,1] / sum(va$vectors[,1]); round(PageRankA, digits = 4)"
   ]
  },
  {
   "cell_type": "code",
   "execution_count": 15,
   "metadata": {},
   "outputs": [
    {
     "data": {
      "text/plain": [
       "eigen() decomposition\n",
       "$values\n",
       "[1]  1.000000e+00 -4.250000e-01 -3.283472e-01  7.334716e-02  3.338381e-16\n",
       "\n",
       "$vectors\n",
       "           [,1]       [,2]       [,3]       [,4]          [,5]\n",
       "[1,] -0.5120362 -0.7223151 -0.7436111  0.2835064 -1.550291e-15\n",
       "[2,] -0.4611320  0.4213505  0.3463197  0.2029132 -3.429972e-01\n",
       "[3,] -0.4611320  0.4213505  0.3463197  0.2029132 -1.714986e-01\n",
       "[4,] -0.4611320  0.1805788  0.3463197  0.2029132 -3.429972e-01\n",
       "[5,] -0.3160551 -0.3009646 -0.2953481 -0.8922460  8.574929e-01\n"
      ]
     },
     "metadata": {},
     "output_type": "display_data"
    }
   ],
   "source": [
    "vb <- eigen(Gb);vb"
   ]
  },
  {
   "cell_type": "code",
   "execution_count": 16,
   "metadata": {},
   "outputs": [
    {
     "data": {
      "text/html": [
       "<style>\n",
       ".list-inline {list-style: none; margin:0; padding: 0}\n",
       ".list-inline>li {display: inline-block}\n",
       ".list-inline>li:not(:last-child)::after {content: \"\\00b7\"; padding: 0 .5ex}\n",
       "</style>\n",
       "<ol class=list-inline><li>0.2315</li><li>0.2085</li><li>0.2085</li><li>0.2085</li><li>0.1429</li></ol>\n"
      ],
      "text/latex": [
       "\\begin{enumerate*}\n",
       "\\item 0.2315\n",
       "\\item 0.2085\n",
       "\\item 0.2085\n",
       "\\item 0.2085\n",
       "\\item 0.1429\n",
       "\\end{enumerate*}\n"
      ],
      "text/markdown": [
       "1. 0.2315\n",
       "2. 0.2085\n",
       "3. 0.2085\n",
       "4. 0.2085\n",
       "5. 0.1429\n",
       "\n",
       "\n"
      ],
      "text/plain": [
       "[1] 0.2315 0.2085 0.2085 0.2085 0.1429"
      ]
     },
     "metadata": {},
     "output_type": "display_data"
    }
   ],
   "source": [
    "PageRankB <- vb$vectors[,1] / sum(vb$vectors[,1]); round(PageRankB, digits = 4)"
   ]
  },
  {
   "cell_type": "code",
   "execution_count": null,
   "metadata": {},
   "outputs": [],
   "source": []
  }
 ],
 "metadata": {
  "kernelspec": {
   "display_name": "R",
   "language": "R",
   "name": "ir"
  },
  "language_info": {
   "codemirror_mode": "r",
   "file_extension": ".r",
   "mimetype": "text/x-r-source",
   "name": "R",
   "pygments_lexer": "r",
   "version": "4.0.2"
  }
 },
 "nbformat": 4,
 "nbformat_minor": 4
}
