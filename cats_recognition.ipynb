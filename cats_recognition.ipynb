{
 "cells": [
  {
   "cell_type": "code",
   "execution_count": 1,
   "metadata": {},
   "outputs": [],
   "source": [
    "import numpy as np\n",
    "import matplotlib.pyplot as plt\n",
    "import h5py"
   ]
  },
  {
   "cell_type": "code",
   "execution_count": 2,
   "metadata": {},
   "outputs": [
    {
     "data": {
      "text/plain": [
       "[(12288, 209), (1, 209), (12288, 50), (1, 50)]"
      ]
     },
     "execution_count": 2,
     "metadata": {},
     "output_type": "execute_result"
    }
   ],
   "source": [
    "train_dataset = h5py.File('datasets/train_catvnoncat.h5', \"r\")\n",
    "X_train_orig = np.array(train_dataset[\"train_set_x\"])\n",
    "y_train_orig = np.array(train_dataset[\"train_set_y\"])\n",
    "test_dataset = h5py.File('datasets/test_catvnoncat.h5', \"r\")\n",
    "X_test_orig = np.array(test_dataset[\"test_set_x\"])\n",
    "y_test_orig = np.array(test_dataset[\"test_set_y\"])\n",
    "X_train = X_train_orig.reshape(X_train_orig.shape[0], -1).T\n",
    "X_test = X_test_orig.reshape(X_test_orig.shape[0], -1).T\n",
    "y_train = y_train_orig.reshape(1,-1)\n",
    "y_test = y_test_orig.reshape(1,-1)\n",
    "\n",
    "[X_train.shape, y_train.shape, X_test.shape, y_test.shape]"
   ]
  },
  {
   "cell_type": "code",
   "execution_count": 6,
   "metadata": {},
   "outputs": [],
   "source": [
    "X_train = X_train / 255\n",
    "X_test = X_test / 255"
   ]
  },
  {
   "cell_type": "markdown",
   "metadata": {},
   "source": [
    "## processing:\n",
    "- forward step, calculating the cost function L(a,y):\n",
    "    - $z^{(i)} = wx + b$\n",
    "    - $\\hat{y}^{(i)} = a^{(i)} = \\sigma{(z)^{(i)}}$\n",
    "    - $L(a^{(i)}, y^{(i)}) = -y^{(i)}log a^{(i)} - (1-y^{(i)})log(1-a^{(i)})$\n",
    "    - we need to know the mean of the L function: $\\frac{1}{m} \\sum{L}$\n",
    "    \n",
    "- backward step, calculating the slope of the w, and b:\n",
    "    - $dz = A - Y$\n",
    "    - $dw = \\frac{1}{m} X(dz)^T$\n",
    "    - $db = \\frac{1}{m} \\sum(dz)$\n",
    "    \n",
    "- gradiant descent, update the w, b\n",
    "    - $w = w - \\eta {dw}$\n",
    "    - $b = b - \\eta {db}$\n",
    "\n",
    "Note: the supscript i such as $z^{(i)}$ means the i-th z value of the observation"
   ]
  },
  {
   "cell_type": "markdown",
   "metadata": {},
   "source": [
    "## dimensions\n",
    "- X: $(n_x, m)$\n",
    "- w: $(n_x, 1)$ and $w^T is: (1, n_x)$\n",
    "- Y: $(1, m)$\n",
    "- A: $(1, m)$\n",
    "- dw: $(n_x, m)(m,1) = (n_x, 1)$\n",
    "- db: this is a constant"
   ]
  },
  {
   "cell_type": "code",
   "execution_count": 7,
   "metadata": {},
   "outputs": [],
   "source": [
    "def sigmoid(z):\n",
    "    return ( 1 / (1 + np.exp(-z)) )"
   ]
  },
  {
   "cell_type": "code",
   "execution_count": 8,
   "metadata": {},
   "outputs": [],
   "source": [
    "def generater(dim):\n",
    "    w = np.zeros(shape=(dim,1))\n",
    "    b = 0\n",
    "    assert(w.shape == (dim, 1))\n",
    "    assert(isinstance(b, int) or isinstance(b, float))\n",
    "    return (w,b)"
   ]
  },
  {
   "cell_type": "code",
   "execution_count": 52,
   "metadata": {},
   "outputs": [],
   "source": [
    "def neuron(w, b, X, Y):\n",
    "    m = X_train.shape[1]\n",
    "    z = w.T @ X + b\n",
    "    A = sigmoid(z)\n",
    "    cost = (-1 / m) * np.sum( Y * np.log(A) + (1 - Y) * (np.log(1-A)) )\n",
    "    dw = (1/m) * (X @ (A-Y).T)\n",
    "    db = (1/m) * np.sum(A - Y)\n",
    "    \n",
    "    assert(dw.shape == w.shape)\n",
    "    assert(isinstance(b, float) or isinstance(b, int))\n",
    "    cost = np.squeeze(cost)\n",
    "    \n",
    "    grads = {\n",
    "        \"dw\":dw,\n",
    "        \"db\":db\n",
    "    }\n",
    "    return (grads, cost)"
   ]
  },
  {
   "cell_type": "code",
   "execution_count": 58,
   "metadata": {},
   "outputs": [],
   "source": [
    "def gradiantDesc(w,b,X,Y, iteration_times, eta):\n",
    "    costs = []\n",
    "    \n",
    "    for i in range(iteration_times):\n",
    "        grads, cost = neuron(w, b, X, Y)\n",
    "        dw = grads[\"dw\"]\n",
    "        db = grads[\"db\"]\n",
    "        w = w - eta*dw\n",
    "        b = b - eta*db\n",
    "        \n",
    "        if (i % 100 == 0):\n",
    "            costs.append(cost)\n",
    "            print('{}-th iteration:'.format(i), 'cost=', cost)\n",
    "    params = {\n",
    "        \"w\":w,\n",
    "        \"b\":b\n",
    "    }\n",
    "    grads = {\n",
    "        \"dw\":dw,\n",
    "        \"db\": db\n",
    "    }\n",
    "    return (params, grads, costs)"
   ]
  },
  {
   "cell_type": "code",
   "execution_count": 38,
   "metadata": {},
   "outputs": [],
   "source": [
    "def prediction(w,b,X):\n",
    "    m = X.shape[1]\n",
    "    w = w.reshape(-1, 1)\n",
    "    assert(w.shape == (X.shape[0],1))\n",
    "    A = sigmoid(w.T @ X + b)\n",
    "    y_pred = A.copy()\n",
    "    y_pred[A > 0.5] = 1\n",
    "    y_pred[A <= 0.5] = 0\n",
    "    assert(y_pred.shape== (1,m))\n",
    "    return y_pred"
   ]
  },
  {
   "cell_type": "code",
   "execution_count": 61,
   "metadata": {},
   "outputs": [],
   "source": [
    "def model(X_train, y_train,X_test, y_test, iteration_time=2000, eta = 0.1):\n",
    "    w, b = generater(X_train.shape[0])\n",
    "    params, grads, costs = gradiantDesc(w, b, X_train, y_train, iteration_time, eta)\n",
    "    w, b = params['w'], params['b']\n",
    "    y_pred = prediction(w,b,X_test)\n",
    "    accuracy = np.sum(y_pred == y_test) / (y_test.shape[1])\n",
    "    print(\"the accuracy of the prediction is:\", accuracy)\n",
    "    return costs"
   ]
  },
  {
   "cell_type": "code",
   "execution_count": 62,
   "metadata": {},
   "outputs": [
    {
     "name": "stdout",
     "output_type": "stream",
     "text": [
      "0-th iteration: cost= 0.6931471805599453\n",
      "100-th iteration: cost= 0.5845083636993085\n",
      "200-th iteration: cost= 0.4669490409465547\n",
      "300-th iteration: cost= 0.37600686694802077\n",
      "400-th iteration: cost= 0.3314632893282512\n",
      "500-th iteration: cost= 0.303273067474383\n",
      "600-th iteration: cost= 0.27987958658260487\n",
      "700-th iteration: cost= 0.2600421369258757\n",
      "800-th iteration: cost= 0.2429406846779662\n",
      "900-th iteration: cost= 0.22800422256726066\n",
      "1000-th iteration: cost= 0.2148195137844964\n",
      "1100-th iteration: cost= 0.20307819060644985\n",
      "1200-th iteration: cost= 0.1925442771670686\n",
      "1300-th iteration: cost= 0.18303333796883509\n",
      "1400-th iteration: cost= 0.17439859438448876\n",
      "1500-th iteration: cost= 0.16652139705400335\n",
      "1600-th iteration: cost= 0.15930451829756614\n",
      "1700-th iteration: cost= 0.152667324712965\n",
      "1800-th iteration: cost= 0.1465422350398234\n",
      "1900-th iteration: cost= 0.14087207570310162\n",
      "the accuracy of the prediction is: 0.7\n"
     ]
    }
   ],
   "source": [
    "costs= model(X_train, y_train, X_test, y_test, eta=0.005)"
   ]
  },
  {
   "cell_type": "code",
   "execution_count": 65,
   "metadata": {},
   "outputs": [
    {
     "data": {
      "image/png": "[encoded data removed]",
      "text/plain": [
       "<Figure size 432x288 with 1 Axes>"
      ]
     },
     "metadata": {
      "needs_background": "light"
     },
     "output_type": "display_data"
    }
   ],
   "source": [
    "plt.plot(costs)\n",
    "plt.ylabel('cost')\n",
    "plt.xlabel('iterations (per hundreds)')\n",
    "plt.show()"
   ]
  },
  {
   "cell_type": "code",
   "execution_count": null,
   "metadata": {},
   "outputs": [],
   "source": []
  }
 ],
 "metadata": {
  "kernelspec": {
   "display_name": "Python 3",
   "language": "python",
   "name": "python3"
  },
  "language_info": {
   "codemirror_mode": {
    "name": "ipython",
    "version": 3
   },
   "file_extension": ".py",
   "mimetype": "text/x-python",
   "name": "python",
   "nbconvert_exporter": "python",
   "pygments_lexer": "ipython3",
   "version": "3.8.3"
  }
 },
 "nbformat": 4,
 "nbformat_minor": 4
}
